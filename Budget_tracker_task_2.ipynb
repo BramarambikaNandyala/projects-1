{
  "nbformat": 4,
  "nbformat_minor": 0,
  "metadata": {
    "colab": {
      "provenance": [],
      "authorship_tag": "ABX9TyOUmyAuM7a1/HeCOlST0TD7",
      "include_colab_link": true
    },
    "kernelspec": {
      "name": "python3",
      "display_name": "Python 3"
    },
    "language_info": {
      "name": "python"
    }
  },
  "cells": [
    {
      "cell_type": "markdown",
      "metadata": {
        "id": "view-in-github",
        "colab_type": "text"
      },
      "source": [
        "<a href=\"https://colab.research.google.com/github/BramarambikaNandyala/projects-1/blob/master/Budget_tracker_task_2.ipynb\" target=\"_parent\"><img src=\"https://colab.research.google.com/assets/colab-badge.svg\" alt=\"Open In Colab\"/></a>"
      ]
    },
    {
      "cell_type": "code",
      "execution_count": null,
      "metadata": {
        "id": "wtNBXpM7dt4O"
      },
      "outputs": [],
      "source": [
        "class BudgetTracker:\n",
        "    def __init__(self):\n",
        "        self.categories = {}\n",
        "        self.salary = 0\n",
        "\n",
        "    def add_category(self, category_name):\n",
        "        if category_name not in self.categories:\n",
        "            self.categories[category_name] = 0\n",
        "        else:\n",
        "            print(\"Category already exists!\")\n",
        "\n",
        "    def add_expense(self, category_name, amount):\n",
        "        if category_name in self.categories:\n",
        "            self.categories[category_name] += amount\n",
        "        else:\n",
        "            print(\"Category does not exist!\")\n",
        "\n",
        "    def view_category_balance(self, category_name):\n",
        "        if category_name in self.categories:\n",
        "            expenses = self.categories[category_name]\n",
        "            print(f\"Total spent on {category_name}: ${expenses}\")\n",
        "        else:\n",
        "            print(\"Category does not exist!\")\n",
        "\n",
        "    def view_total_balance(self):\n",
        "        total_expenses = sum(self.categories.values())\n",
        "        total_savings = self.salary - total_expenses\n",
        "        print(f\"Total income earned (Salary): ${self.salary}\")\n",
        "        print(f\"Total spent on expenses: ${total_expenses}\")\n",
        "        print(f\"Savings: ${total_savings}\")\n",
        "\n",
        "# Example usage:\n",
        "budget_tracker = BudgetTracker()\n",
        "\n",
        "# Enter Salary\n",
        "budget_tracker.salary = float(input(\"Enter your salary: $\"))\n",
        "\n",
        "# Adding expense categories\n",
        "categories = [\"Groceries\", \"Health\", \"EMI\", \"Clothing\", \"Outside Food\"]\n",
        "for category_name in categories:\n",
        "    budget_tracker.add_category(category_name)\n",
        "\n",
        "# Inputting expenses\n",
        "for category_name in categories:\n",
        "    expense_amount = float(input(f\"Enter amount spent on {category_name}: $\"))\n",
        "    budget_tracker.add_expense(category_name, expense_amount)\n",
        "\n",
        "# Viewing category balances\n",
        "for category_name in categories:\n",
        "    budget_tracker.view_category_balance(category_name)\n",
        "\n",
        "# Viewing total balance\n",
        "budget_tracker.view_total_balance()\n"
      ]
    }
  ]
}