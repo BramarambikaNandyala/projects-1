{
  "nbformat": 4,
  "nbformat_minor": 0,
  "metadata": {
    "colab": {
      "provenance": [],
      "authorship_tag": "ABX9TyNfdSKkkHBN6EeCKTbw9TcK",
      "include_colab_link": true
    },
    "kernelspec": {
      "name": "python3",
      "display_name": "Python 3"
    },
    "language_info": {
      "name": "python"
    }
  },
  "cells": [
    {
      "cell_type": "markdown",
      "metadata": {
        "id": "view-in-github",
        "colab_type": "text"
      },
      "source": [
        "<a href=\"https://colab.research.google.com/github/BramarambikaNandyala/projects-1/blob/master/Password_generator.ipynb\" target=\"_parent\"><img src=\"https://colab.research.google.com/assets/colab-badge.svg\" alt=\"Open In Colab\"/></a>"
      ]
    },
    {
      "cell_type": "code",
      "execution_count": null,
      "metadata": {
        "id": "s0ukAxifcZ8U"
      },
      "outputs": [],
      "source": [
        "import random\n",
        "import string\n",
        "\n",
        "def generate_password(length=12):\n",
        "    # Define characters to use in the password\n",
        "    characters = string.ascii_letters + string.digits + string.punctuation\n",
        "\n",
        "    # Generate a random password\n",
        "    password = ''.join(random.choice(characters) for i in range(length))\n",
        "\n",
        "    return password\n",
        "\n",
        "def generate_custom_password():\n",
        "    return input(\"Enter your custom password: \")\n",
        "\n",
        "if __name__ == \"__main__\":\n",
        "    while True:\n",
        "        try:\n",
        "            choice = int(input(\"Choose an option:\\n1. Generate random passwords\\n2. Enter custom password\\nEnter your choice: \"))\n",
        "            if choice not in [1, 2]:\n",
        "                raise ValueError\n",
        "            break\n",
        "        except ValueError:\n",
        "            print(\"Please enter a valid option (1 or 2).\")\n",
        "\n",
        "    if choice == 1:\n",
        "        while True:\n",
        "            try:\n",
        "                num_passwords = int(input(\"Enter the number of passwords to generate: \"))\n",
        "                length = int(input(\"Enter the length of each password: \"))\n",
        "                break\n",
        "            except ValueError:\n",
        "                print(\"Please enter a valid number.\")\n",
        "\n",
        "        for _ in range(num_passwords):\n",
        "            print(generate_password(length))\n",
        "    else:\n",
        "        print(\"Your custom password is:\", generate_custom_password())\n"
      ]
    }
  ]
}